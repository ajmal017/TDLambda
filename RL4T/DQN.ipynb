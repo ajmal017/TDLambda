{
 "metadata": {
  "language_info": {
   "codemirror_mode": {
    "name": "ipython",
    "version": 3
   },
   "file_extension": ".py",
   "mimetype": "text/x-python",
   "name": "python",
   "nbconvert_exporter": "python",
   "pygments_lexer": "ipython3",
   "version": "3.7.9-final"
  },
  "orig_nbformat": 2,
  "kernelspec": {
   "name": "python37964bitml4tconda64759e0dd7644227b7c7127d5f492af8",
   "display_name": "Python 3.7.9 64-bit ('ml4t': conda)"
  }
 },
 "nbformat": 4,
 "nbformat_minor": 2,
 "cells": [
  {
   "cell_type": "code",
   "execution_count": 1,
   "metadata": {},
   "outputs": [],
   "source": [
    "import warnings\n",
    "warnings.filterwarnings('ignore') # 忽略warning错误信息\n",
    "\n",
    "from pathlib import Path\n",
    "from time import time\n",
    "from collections import deque\n",
    "from random import sample\n",
    "\n",
    "import numpy as np\n",
    "import pandas as pd\n",
    "\n",
    "import matplotlib.pyplot as plt\n",
    "from matplotlib.ticker import FuncFormatter\n",
    "import seaborn as sns\n",
    "\n",
    "import tensorflow as tf\n",
    "from tensorflow.keras import Sequential\n",
    "from tensorflow.keras.layers import Dense, Dropout\n",
    "from tensorflow.keras.optimizers import Adam\n",
    "from tensorflow.keras.regularizers import l2"
   ]
  },
  {
   "cell_type": "code",
   "execution_count": 2,
   "metadata": {
    "tags": []
   },
   "outputs": [
    {
     "output_type": "stream",
     "name": "stderr",
     "text": "INFO:trading_env:trading_env logger started.\nINFO:trading_env:loading data for AAPL...\nINFO:trading_env:got data for AAPL...\nINFO:trading_env:None\n<class 'pandas.core.frame.DataFrame'>\nMultiIndex: 9367 entries, (Timestamp('1981-01-30 00:00:00'), 'AAPL') to (Timestamp('2018-03-27 00:00:00'), 'AAPL')\nData columns (total 10 columns):\n #   Column   Non-Null Count  Dtype  \n---  ------   --------------  -----  \n 0   returns  9367 non-null   float64\n 1   ret_2    9367 non-null   float64\n 2   ret_5    9367 non-null   float64\n 3   ret_10   9367 non-null   float64\n 4   ret_21   9367 non-null   float64\n 5   rsi      9367 non-null   float64\n 6   macd     9367 non-null   float64\n 7   atr      9367 non-null   float64\n 8   stoch    9367 non-null   float64\n 9   ultosc   9367 non-null   float64\ndtypes: float64(10)\nmemory usage: 1.7+ MB\n"
    }
   ],
   "source": [
    "import gym\n",
    "from gym.envs.registration import register\n",
    "\n",
    "np.random.seed(42)\n",
    "tf.random.set_seed(42)\n",
    "\n",
    "# 将时间信息格式化\n",
    "def format_time(t):\n",
    "    m_, s = divmod(t, 60)\n",
    "    h, m = divmod(m_, 60)\n",
    "    return '{:02.0f}:{:02.0f}:{:02.0f}'.format(h, m, s)\n",
    "\n",
    "# 生成训练数据目录\n",
    "results_path = Path('results', 'trading_bot')\n",
    "if not results_path.exists():\n",
    "    results_path.mkdir(parents=True)\n",
    "\n",
    "\n",
    "# 定义交易天数\n",
    "trading_days = 252\n",
    "\n",
    "# 注册环境 进口为 trading_env.py 文件中的TradingEnvironment类\n",
    "register(\n",
    "    id='trading-v0',\n",
    "    entry_point='trading_env:TradingEnvironment', \n",
    "    max_episode_steps=trading_days\n",
    ")\n",
    "\n",
    "trading_environment = gym.make('trading-v0')\n",
    "trading_environment.env.trading_days = trading_days\n",
    "trading_environment.env.trading_cost_bps = 1e-3\n",
    "trading_environment.env.time_cost_bps = 1e-4\n",
    "trading_environment.env.ticker = 'AAPL'\n",
    "trading_environment.seed(42)\n",
    "\n",
    "# 环境参数\n",
    "state_dim = trading_environment.observation_space.shape[0] \n",
    "num_actions = trading_environment.action_space.n\n",
    "max_episode_steps = trading_environment.spec.max_episode_steps"
   ]
  },
  {
   "cell_type": "code",
   "execution_count": 4,
   "metadata": {
    "tags": []
   },
   "outputs": [
    {
     "output_type": "stream",
     "name": "stdout",
     "text": "10\n3\n252\n"
    }
   ],
   "source": [
    "print (state_dim) # 观测的维度\n",
    "print (num_actions) # 动作数量\n",
    "print (max_episode_steps) # 最大步数"
   ]
  },
  {
   "cell_type": "code",
   "execution_count": 3,
   "metadata": {},
   "outputs": [
    {
     "output_type": "execute_result",
     "data": {
      "text/plain": "PosixPath('models')"
     },
     "metadata": {},
     "execution_count": 3
    }
   ],
   "source": [
    "# model path\n",
    "# 生成训练数据目录\n",
    "models_path = Path('models')\n",
    "\n",
    "if not models_path.exists():\n",
    "    models_path.mkdir(parents=True)\n",
    "models_path"
   ]
  },
  {
   "cell_type": "code",
   "execution_count": 4,
   "metadata": {},
   "outputs": [],
   "source": [
    "# 定义交易agent\n",
    "class DDQNAgent:\n",
    "    def __init__(self, state_dim,\n",
    "                 num_actions,\n",
    "                 learning_rate,\n",
    "                 gamma,\n",
    "                 epsilon_start,\n",
    "                 epsilon_end,\n",
    "                 epsilon_decay_steps,\n",
    "                 epsilon_exponential_decay,\n",
    "                 replay_capacity,\n",
    "                 architecture,\n",
    "                 l2_reg,\n",
    "                 tau,\n",
    "                 batch_size):\n",
    "\n",
    "        self.state_dim = state_dim                               # 10个数据\n",
    "        self.num_actions = num_actions                           # 3个动作: long ,hold, short\n",
    "        self.experience = deque([], maxlen=replay_capacity)      # 用于记录（s, a, s', r, done）\n",
    "        self.learning_rate = learning_rate\n",
    "        self.gamma = gamma\n",
    "        self.architecture = architecture\n",
    "        self.l2_reg = l2_reg\n",
    "\n",
    "        self.online_network = self.build_model()                 \n",
    "        self.target_network = self.build_model(trainable=False)\n",
    "        self.update_target()\n",
    "\n",
    "        self.epsilon = epsilon_start\n",
    "        self.epsilon_decay_steps = epsilon_decay_steps\n",
    "        self.epsilon_decay = (epsilon_start - epsilon_end) / epsilon_decay_steps\n",
    "        self.epsilon_exponential_decay = epsilon_exponential_decay\n",
    "        self.epsilon_history = []\n",
    "\n",
    "        self.total_steps = self.train_steps = 0\n",
    "        self.episodes = self.episode_length = self.train_episodes = 0\n",
    "        self.steps_per_episode = []\n",
    "        self.episode_reward = 0\n",
    "        self.rewards_history = []\n",
    "\n",
    "        self.batch_size = batch_size\n",
    "        self.tau = tau\n",
    "        self.losses = []\n",
    "        self.idx = tf.range(batch_size)\n",
    "        self.train = True\n",
    "\n",
    "    def build_model(self, trainable=True):\n",
    "        layers = []\n",
    "        n = len(self.architecture)\n",
    "        for i, units in enumerate(self.architecture, 1):\n",
    "            layers.append(Dense(units=units,\n",
    "                                input_dim=self.state_dim if i == 1 else None,\n",
    "                                activation='relu',\n",
    "                                kernel_regularizer=l2(self.l2_reg),\n",
    "                                name=f'Dense_{i}',\n",
    "                                trainable=trainable))\n",
    "        layers.append(Dropout(.1))\n",
    "        layers.append(Dense(units=self.num_actions,\n",
    "                            trainable=trainable,\n",
    "                            name='Output'))\n",
    "        model = Sequential(layers)\n",
    "        model.compile(loss='mean_squared_error',\n",
    "                      optimizer=Adam(lr=self.learning_rate))\n",
    "        return model\n",
    "\n",
    "    def update_target(self):\n",
    "        self.target_network.set_weights(self.online_network.get_weights()) # 将online网络的权重赋值给target网络\n",
    "\n",
    "    def epsilon_greedy_policy(self, state):\n",
    "        self.total_steps += 1\n",
    "        if np.random.rand() <= self.epsilon:\n",
    "            return np.random.choice(self.num_actions)  # 以epsilon的概率随机的选择动作\n",
    "        q = self.online_network.predict(state)         # 以1-epsilon的概率选择使 Q(s,a)最大的action\n",
    "        return np.argmax(q, axis=1).squeeze()\n",
    "\n",
    "    def memorize_transition(self, s, a, r, s_prime, not_done):\n",
    "        if not_done:\n",
    "            self.episode_reward += r\n",
    "            self.episode_length += 1\n",
    "        else:\n",
    "            if self.train: # epsilon不断递减\n",
    "                if self.episodes < self.epsilon_decay_steps:\n",
    "                    self.epsilon -= self.epsilon_decay\n",
    "                else:\n",
    "                    self.epsilon *= self.epsilon_exponential_decay\n",
    "\n",
    "            self.episodes += 1\n",
    "            self.rewards_history.append(self.episode_reward)\n",
    "            self.steps_per_episode.append(self.episode_length)\n",
    "            self.episode_reward, self.episode_length = 0, 0\n",
    "\n",
    "        self.experience.append((s, a, r, s_prime, not_done)) # 将(s, a, s_prime, not_done) 写入experience\n",
    "\n",
    "    def experience_replay(self):\n",
    "        if self.batch_size > len(self.experience):\n",
    "            return\n",
    "        minibatch = map(np.array, zip(*sample(self.experience, self.batch_size)))\n",
    "        states, actions, rewards, next_states, not_done = minibatch\n",
    "\n",
    "        next_q_values = self.online_network.predict_on_batch(next_states)\n",
    "        best_actions = tf.argmax(next_q_values, axis=1)\n",
    "\n",
    "        next_q_values_target = self.target_network.predict_on_batch(next_states)\n",
    "        target_q_values = tf.gather_nd(next_q_values_target,\n",
    "                                       tf.stack((self.idx, tf.cast(best_actions, tf.int32)), axis=1))\n",
    "\n",
    "        targets = rewards + not_done * self.gamma * target_q_values\n",
    "\n",
    "        q_values = self.online_network.predict_on_batch(states)\n",
    "        q_values[[self.idx, actions]] = targets\n",
    "\n",
    "        loss = self.online_network.train_on_batch(x=states, y=q_values)\n",
    "        self.losses.append(loss)\n",
    "\n",
    "        if self.total_steps % self.tau == 0:\n",
    "            self.update_target()\n",
    "\n",
    "    def save_model(self):\n",
    "        try:\n",
    "            self.online_network.save(models_path / 'online_model') \n",
    "            self.target_network.save(models_path / 'target_model')\n",
    "            print('models have been saved.')\n",
    "            return True\n",
    "        except:\n",
    "            return False\n",
    "\n",
    "    def load_model(self):\n",
    "        try:\n",
    "            self.online_network = tf.keras.models.load_model(models_path / 'online_model') \n",
    "            self.target_network = tf.keras.models.load_model(models_path / 'target_model')\n",
    "            print('models have been loaded.')\n",
    "            return True\n",
    "        except:\n",
    "            return False"
   ]
  },
  {
   "cell_type": "code",
   "execution_count": 5,
   "metadata": {},
   "outputs": [],
   "source": [
    "# 定义模型参数与网络结构\n",
    "gamma = .99,  # discount factor\n",
    "tau = 100  # target network update frequency\n",
    "\n",
    "architecture = (256, 256)  # 神经网络的参数\n",
    "learning_rate = 0.0001  # learning rate\n",
    "l2_reg = 1e-6  # L2 regularization\n",
    "replay_capacity = int(1e6)\n",
    "batch_size = 4096\n",
    "\n",
    "epsilon_start = 1.0\n",
    "epsilon_end = .01\n",
    "epsilon_decay_steps = 250\n",
    "epsilon_exponential_decay = .99\n",
    "\n",
    "tf.keras.backend.clear_session()\n",
    "\n",
    "ddqn = DDQNAgent(state_dim=state_dim,\n",
    "                 num_actions=num_actions,\n",
    "                 learning_rate=learning_rate,\n",
    "                 gamma=gamma,\n",
    "                 epsilon_start=epsilon_start,\n",
    "                 epsilon_end=epsilon_end,\n",
    "                 epsilon_decay_steps=epsilon_decay_steps,\n",
    "                 epsilon_exponential_decay=epsilon_exponential_decay,\n",
    "                 replay_capacity=replay_capacity,\n",
    "                 architecture=architecture,\n",
    "                 l2_reg=l2_reg,\n",
    "                 tau=tau,\n",
    "                 batch_size=batch_size)"
   ]
  },
  {
   "cell_type": "code",
   "execution_count": 7,
   "metadata": {
    "tags": []
   },
   "outputs": [
    {
     "output_type": "stream",
     "name": "stdout",
     "text": "Model: \"sequential\"\n_________________________________________________________________\nLayer (type)                 Output Shape              Param #   \n=================================================================\nDense_1 (Dense)              (None, 256)               2816      \n_________________________________________________________________\nDense_2 (Dense)              (None, 256)               65792     \n_________________________________________________________________\ndropout (Dropout)            (None, 256)               0         \n_________________________________________________________________\nOutput (Dense)               (None, 3)                 771       \n=================================================================\nTotal params: 69,379\nTrainable params: 69,379\nNon-trainable params: 0\n_________________________________________________________________\n"
    },
    {
     "output_type": "execute_result",
     "data": {
      "text/plain": "[<tf.Variable 'Dense_1/kernel:0' shape=(10, 256) dtype=float32, numpy=\n array([[ 0.04943046, -0.01772013, -0.04419052, ...,  0.00709645,\n          0.10010409,  0.08421537],\n        [ 0.07523823,  0.08323127,  0.04633622, ..., -0.035027  ,\n          0.09194687,  0.05923855],\n        [-0.1310968 ,  0.07321371, -0.11101919, ..., -0.14396206,\n         -0.0499901 , -0.09893271],\n        ...,\n        [ 0.14955643, -0.00583661, -0.00119951, ..., -0.07104123,\n         -0.0286596 , -0.03342304],\n        [ 0.06839566, -0.12877463,  0.05618842, ..., -0.01180017,\n          0.09284012, -0.12714407],\n        [-0.03903491, -0.09870157,  0.07117632, ..., -0.02694204,\n         -0.08345815, -0.12888123]], dtype=float32)>,\n <tf.Variable 'Dense_1/bias:0' shape=(256,) dtype=float32, numpy=\n array([0., 0., 0., 0., 0., 0., 0., 0., 0., 0., 0., 0., 0., 0., 0., 0., 0.,\n        0., 0., 0., 0., 0., 0., 0., 0., 0., 0., 0., 0., 0., 0., 0., 0., 0.,\n        0., 0., 0., 0., 0., 0., 0., 0., 0., 0., 0., 0., 0., 0., 0., 0., 0.,\n        0., 0., 0., 0., 0., 0., 0., 0., 0., 0., 0., 0., 0., 0., 0., 0., 0.,\n        0., 0., 0., 0., 0., 0., 0., 0., 0., 0., 0., 0., 0., 0., 0., 0., 0.,\n        0., 0., 0., 0., 0., 0., 0., 0., 0., 0., 0., 0., 0., 0., 0., 0., 0.,\n        0., 0., 0., 0., 0., 0., 0., 0., 0., 0., 0., 0., 0., 0., 0., 0., 0.,\n        0., 0., 0., 0., 0., 0., 0., 0., 0., 0., 0., 0., 0., 0., 0., 0., 0.,\n        0., 0., 0., 0., 0., 0., 0., 0., 0., 0., 0., 0., 0., 0., 0., 0., 0.,\n        0., 0., 0., 0., 0., 0., 0., 0., 0., 0., 0., 0., 0., 0., 0., 0., 0.,\n        0., 0., 0., 0., 0., 0., 0., 0., 0., 0., 0., 0., 0., 0., 0., 0., 0.,\n        0., 0., 0., 0., 0., 0., 0., 0., 0., 0., 0., 0., 0., 0., 0., 0., 0.,\n        0., 0., 0., 0., 0., 0., 0., 0., 0., 0., 0., 0., 0., 0., 0., 0., 0.,\n        0., 0., 0., 0., 0., 0., 0., 0., 0., 0., 0., 0., 0., 0., 0., 0., 0.,\n        0., 0., 0., 0., 0., 0., 0., 0., 0., 0., 0., 0., 0., 0., 0., 0., 0.,\n        0.], dtype=float32)>,\n <tf.Variable 'Dense_2/kernel:0' shape=(256, 256) dtype=float32, numpy=\n array([[ 0.04067964, -0.00336043,  0.09331302, ..., -0.05562919,\n         -0.09915592, -0.07003643],\n        [-0.03871035,  0.06407639, -0.04704274, ..., -0.1047272 ,\n          0.02788656, -0.03861929],\n        [-0.0223889 ,  0.07421758,  0.01034984, ..., -0.04351449,\n          0.06435005,  0.03692443],\n        ...,\n        [ 0.02701262, -0.10163336,  0.04600718, ...,  0.01145013,\n         -0.08386543, -0.07223843],\n        [-0.06131713, -0.05757694, -0.00984047, ...,  0.03523437,\n         -0.00272727, -0.05270342],\n        [-0.07520302, -0.04225121, -0.03619627, ...,  0.05789558,\n         -0.04246469,  0.01773887]], dtype=float32)>,\n <tf.Variable 'Dense_2/bias:0' shape=(256,) dtype=float32, numpy=\n array([0., 0., 0., 0., 0., 0., 0., 0., 0., 0., 0., 0., 0., 0., 0., 0., 0.,\n        0., 0., 0., 0., 0., 0., 0., 0., 0., 0., 0., 0., 0., 0., 0., 0., 0.,\n        0., 0., 0., 0., 0., 0., 0., 0., 0., 0., 0., 0., 0., 0., 0., 0., 0.,\n        0., 0., 0., 0., 0., 0., 0., 0., 0., 0., 0., 0., 0., 0., 0., 0., 0.,\n        0., 0., 0., 0., 0., 0., 0., 0., 0., 0., 0., 0., 0., 0., 0., 0., 0.,\n        0., 0., 0., 0., 0., 0., 0., 0., 0., 0., 0., 0., 0., 0., 0., 0., 0.,\n        0., 0., 0., 0., 0., 0., 0., 0., 0., 0., 0., 0., 0., 0., 0., 0., 0.,\n        0., 0., 0., 0., 0., 0., 0., 0., 0., 0., 0., 0., 0., 0., 0., 0., 0.,\n        0., 0., 0., 0., 0., 0., 0., 0., 0., 0., 0., 0., 0., 0., 0., 0., 0.,\n        0., 0., 0., 0., 0., 0., 0., 0., 0., 0., 0., 0., 0., 0., 0., 0., 0.,\n        0., 0., 0., 0., 0., 0., 0., 0., 0., 0., 0., 0., 0., 0., 0., 0., 0.,\n        0., 0., 0., 0., 0., 0., 0., 0., 0., 0., 0., 0., 0., 0., 0., 0., 0.,\n        0., 0., 0., 0., 0., 0., 0., 0., 0., 0., 0., 0., 0., 0., 0., 0., 0.,\n        0., 0., 0., 0., 0., 0., 0., 0., 0., 0., 0., 0., 0., 0., 0., 0., 0.,\n        0., 0., 0., 0., 0., 0., 0., 0., 0., 0., 0., 0., 0., 0., 0., 0., 0.,\n        0.], dtype=float32)>,\n <tf.Variable 'Output/kernel:0' shape=(256, 3) dtype=float32, numpy=\n array([[ 7.34742433e-02,  3.91304791e-02, -1.46911860e-01],\n        [-4.77479175e-02,  3.23818624e-03, -3.72126028e-02],\n        [-1.29916385e-01, -1.45698607e-01, -6.47849515e-02],\n        [-8.80907476e-03,  5.89376390e-02, -1.29917175e-01],\n        [ 1.31660044e-01, -8.87560174e-02,  6.12037033e-02],\n        [-1.26134604e-02,  1.09472990e-01,  1.30695462e-01],\n        [-9.04337317e-02,  8.17806870e-02,  3.04895490e-02],\n        [-6.98928088e-02,  1.16224766e-01, -1.35872290e-01],\n        [-2.35171318e-02,  1.18834019e-01,  8.78835320e-02],\n        [-1.21259063e-01, -9.31218863e-02, -6.72841221e-02],\n        [-3.19243595e-02, -1.14958949e-01, -3.52736488e-02],\n        [ 1.35622680e-01,  8.40003341e-02,  1.35285944e-01],\n        [-1.39124811e-01, -7.72902369e-03,  4.71299589e-02],\n        [ 2.00031251e-02, -1.10017151e-01, -6.07396066e-02],\n        [-5.13938665e-02, -1.12913921e-01,  4.37023491e-02],\n        [-1.37776285e-02,  5.74779510e-02, -6.02617338e-02],\n        [-2.57892907e-03, -7.14473575e-02,  6.46178722e-02],\n        [ 6.78740591e-02, -9.47743058e-02, -7.86723122e-02],\n        [ 9.17461663e-02,  1.43602788e-01,  6.22535199e-02],\n        [-6.40649199e-02,  1.49516165e-02, -1.36793733e-01],\n        [-9.35084671e-02, -1.39500648e-02, -8.55715424e-02],\n        [ 1.13373011e-01,  1.92035139e-02, -5.57699353e-02],\n        [ 5.63084185e-02, -3.27171832e-02,  6.41175359e-02],\n        [ 6.20399266e-02,  6.58463389e-02,  1.02756888e-01],\n        [ 1.49455786e-01,  1.34015530e-01, -8.62593129e-02],\n        [ 6.52542263e-02,  1.20043308e-02,  6.97147846e-03],\n        [-4.71403375e-02,  1.42897844e-01,  1.48866385e-01],\n        [-5.76434582e-02,  1.36677384e-01,  2.75958627e-02],\n        [ 1.22140050e-02, -7.18900785e-02, -1.85650587e-03],\n        [ 4.39262390e-03,  5.91885448e-02, -3.93275917e-02],\n        [ 3.08366120e-03,  1.27626240e-01, -8.86264294e-02],\n        [-2.97428891e-02, -7.27233291e-02,  1.26313090e-01],\n        [ 1.13967508e-01, -1.01149715e-01,  4.85923439e-02],\n        [ 9.16637927e-02, -1.42078847e-01,  2.06907094e-02],\n        [-6.24745488e-02,  1.37532651e-01, -2.33907104e-02],\n        [ 1.00281596e-01, -8.62494782e-02, -6.79075867e-02],\n        [-6.86585382e-02,  7.43135810e-02,  1.29001260e-01],\n        [ 1.13765001e-01,  9.66035277e-02,  1.37738585e-01],\n        [ 1.32389933e-01, -4.70840558e-02,  9.93538201e-02],\n        [-7.37777948e-02,  1.44660473e-02, -4.41705137e-02],\n        [-1.25609189e-02,  1.49506181e-01, -2.22435296e-02],\n        [ 3.59841436e-02,  5.10321110e-02,  9.29668695e-02],\n        [ 1.09152466e-01, -2.13885456e-02,  1.20471567e-01],\n        [-1.08215287e-01,  7.36454427e-02, -2.04187036e-02],\n        [ 7.59516060e-02, -1.13132596e-02,  7.20679760e-04],\n        [ 2.95479447e-02, -3.35132033e-02, -1.15490936e-01],\n        [ 3.62053812e-02, -8.51274803e-02,  7.93521404e-02],\n        [ 3.34410369e-03, -7.03701824e-02, -7.34035149e-02],\n        [-1.27532020e-01,  9.21576768e-02,  1.99612081e-02],\n        [-1.46543682e-01, -5.34757972e-02, -2.20623016e-02],\n        [-1.34639889e-02,  1.81223750e-02, -8.41298699e-03],\n        [-1.37314245e-01,  5.19375503e-03, -7.17039183e-02],\n        [-1.13427952e-01,  1.06142879e-01,  1.36379302e-01],\n        [-1.24261364e-01,  1.14813119e-01,  1.32740587e-02],\n        [-1.19101904e-01, -5.11680469e-02,  5.79217225e-02],\n        [-1.32958353e-01,  1.68432593e-02, -1.23928890e-01],\n        [-1.27860576e-01,  8.36730003e-04,  7.88186640e-02],\n        [-9.80867445e-03, -1.16163179e-01, -1.44925237e-01],\n        [-2.03508139e-03,  1.51683718e-01,  1.40410751e-01],\n        [-1.17902607e-02, -2.38801539e-03, -1.48598433e-01],\n        [-1.34618819e-01, -1.18442371e-01, -7.02819675e-02],\n        [ 8.42455328e-02, -1.00589715e-01, -8.49823281e-02],\n        [-1.21950097e-01, -1.39187485e-01, -1.40421927e-01],\n        [-4.33374420e-02,  8.44916701e-02, -1.48691371e-01],\n        [ 1.42399102e-01,  5.82453310e-02,  1.44335717e-01],\n        [ 3.16541940e-02, -6.19939119e-02,  8.08523297e-02],\n        [ 1.27867222e-01, -1.93103105e-02, -1.62713528e-02],\n        [-4.51032296e-02, -1.33577615e-01,  2.03252286e-02],\n        [-1.04721099e-01,  1.51609063e-01,  1.01527154e-01],\n        [ 6.36753291e-02,  7.03552961e-02,  1.12334788e-01],\n        [-1.32761806e-01, -6.20347336e-02, -1.41047284e-01],\n        [ 1.36503428e-01, -4.43311259e-02,  6.72152787e-02],\n        [ 9.36393291e-02,  1.51092917e-01,  3.30314785e-02],\n        [-5.25295436e-02,  7.69947022e-02, -4.72399518e-02],\n        [-9.23976824e-02,  1.47767097e-01, -1.06287152e-01],\n        [-3.95608917e-02, -3.78777087e-03, -1.50545254e-01],\n        [-8.26347694e-02,  9.41332728e-02, -3.27763334e-02],\n        [-5.92598319e-03, -5.08216694e-02,  1.02390349e-03],\n        [-1.30837008e-01, -7.35988915e-02,  1.35160804e-01],\n        [ 2.80286372e-03,  1.32627606e-01, -1.30131319e-01],\n        [ 6.14800304e-02, -3.75959873e-02, -1.24183856e-01],\n        [-5.83675206e-02, -1.01372600e-02,  5.30658066e-02],\n        [-1.41438544e-01,  1.98104382e-02, -3.17242742e-03],\n        [-6.92938343e-02, -1.37248486e-01,  1.42808944e-01],\n        [ 6.10337257e-02,  1.01713628e-01, -2.67224759e-02],\n        [ 1.01905793e-01, -1.27797619e-01, -5.89898974e-02],\n        [ 1.35406822e-01,  2.97351927e-02,  1.21795356e-01],\n        [ 1.25425965e-01,  1.80517584e-02,  1.14179999e-01],\n        [-1.12589732e-01, -2.61085480e-02,  2.64188945e-02],\n        [-1.38642579e-01, -6.40665889e-02, -1.33046508e-03],\n        [ 1.33011192e-02,  1.32760435e-01,  1.48328781e-01],\n        [ 9.46912467e-02,  2.15206295e-02, -1.06293395e-01],\n        [-1.48979247e-01,  4.37407792e-02,  1.23576015e-01],\n        [-8.63878056e-02, -1.16938904e-01, -1.65170580e-02],\n        [-1.48104802e-01, -6.33893907e-03, -5.63822240e-02],\n        [-1.25282437e-01,  7.16457516e-02, -5.78983128e-02],\n        [-1.41067758e-01, -1.33446276e-01,  1.30098552e-01],\n        [-7.06163570e-02,  3.46678942e-02, -4.32539061e-02],\n        [-5.84119707e-02, -7.10064918e-02, -2.40788013e-02],\n        [-4.52551246e-03, -8.80961865e-02, -7.58499950e-02],\n        [-1.19197413e-01, -3.70419025e-03,  9.86573696e-02],\n        [ 1.40988141e-01,  1.15915835e-02,  1.94647163e-02],\n        [-9.28258896e-02, -1.65135115e-02,  2.22557932e-02],\n        [-2.83411145e-03,  7.80166239e-02,  1.81593001e-03],\n        [-6.08375892e-02, -1.43381387e-01,  1.40990704e-01],\n        [ 7.76987672e-02, -8.28058347e-02,  1.06584787e-01],\n        [ 1.48353040e-01, -7.19816312e-02, -1.29879400e-01],\n        [ 6.32430613e-03, -4.62358221e-02,  3.77996266e-03],\n        [-7.80878961e-03, -1.07262582e-02, -4.01273370e-04],\n        [ 1.13400072e-02,  1.41847938e-01, -3.74518931e-02],\n        [-1.28348917e-02,  8.83966684e-03, -1.39354229e-01],\n        [ 5.19989729e-02, -3.98297831e-02,  1.40327513e-01],\n        [ 1.42220110e-02, -2.23906338e-03,  4.07981426e-02],\n        [-1.26009047e-01, -3.90864909e-03, -1.19712599e-01],\n        [-1.47000983e-01,  1.20918721e-01,  3.15806270e-03],\n        [-6.65260628e-02, -6.36821985e-03,  1.05772972e-01],\n        [ 5.38572967e-02,  8.69207382e-02, -1.33457899e-01],\n        [ 1.34701043e-01,  1.17990375e-01, -5.65170720e-02],\n        [-1.10737234e-02,  1.08347446e-01,  1.28490776e-02],\n        [ 9.82073843e-02, -1.71612799e-02, -2.64413655e-03],\n        [ 2.47129798e-03, -1.22211225e-01, -6.46853745e-02],\n        [-6.64254352e-02,  4.62799072e-02, -9.98143852e-02],\n        [-8.64818692e-04,  2.64688581e-02, -7.89203048e-02],\n        [ 1.13213748e-01, -1.47467032e-01,  7.08621442e-02],\n        [ 4.96491343e-02, -9.58164036e-02, -4.77603972e-02],\n        [-1.34376734e-02, -9.15258229e-02, -3.31256762e-02],\n        [ 8.49176198e-02, -4.45740372e-02,  8.44630450e-02],\n        [ 6.43107742e-02, -7.42822886e-05,  1.18089378e-01],\n        [ 7.31631368e-02,  5.72653115e-03, -1.21603221e-01],\n        [-6.46843612e-02,  1.26394928e-01,  1.21093869e-01],\n        [ 2.84848064e-02,  3.38793844e-02,  1.19265795e-01],\n        [ 8.90442580e-02, -2.50238925e-02,  7.61298090e-02],\n        [ 2.59785354e-02, -1.41689122e-01, -9.92639363e-03],\n        [ 3.18207592e-02, -4.43417877e-02,  8.20460618e-02],\n        [ 5.15717864e-02,  2.12341547e-05, -1.17425784e-01],\n        [-1.41457379e-01, -1.07802898e-02, -4.67254221e-02],\n        [-2.19734311e-02,  9.14324224e-02,  4.17728722e-02],\n        [-1.04559943e-01,  1.13865614e-01,  1.40393734e-01],\n        [-1.01328216e-01,  9.70075577e-02, -5.70326969e-02],\n        [ 9.58170891e-02,  4.93388623e-02, -1.04085542e-01],\n        [ 1.46376491e-01,  9.35338289e-02, -8.30481946e-03],\n        [-8.66858438e-02,  1.51418567e-01, -1.38389573e-01],\n        [ 4.61309105e-02, -8.36094320e-02,  2.34073699e-02],\n        [ 9.92394984e-02,  1.14190400e-01,  7.34070390e-02],\n        [-1.16379455e-01, -1.26703307e-01, -8.61721113e-02],\n        [ 6.79712445e-02,  1.01277232e-03,  2.52905041e-02],\n        [-1.07902087e-01, -5.13596833e-02,  5.86408377e-02],\n        [-2.53843516e-02,  8.55511129e-02, -3.38819623e-03],\n        [-9.94561762e-02,  7.59973675e-02, -1.77763700e-02],\n        [ 1.49165124e-01,  3.33173126e-02,  1.50831103e-01],\n        [-7.28342980e-02,  1.22620523e-01, -6.59336150e-02],\n        [-1.48482308e-01,  1.38452351e-02, -6.89653158e-02],\n        [ 7.07238466e-02,  6.76983893e-02, -2.52698511e-02],\n        [-1.92564577e-02, -1.24541476e-01, -9.26926732e-02],\n        [-2.02006847e-02, -2.21185088e-02, -4.75635305e-02],\n        [ 8.79857987e-02,  2.61550695e-02,  1.41313195e-01],\n        [ 8.63734782e-02, -2.33329386e-02,  6.57958984e-02],\n        [-2.54548192e-02,  5.19777834e-03,  2.19586641e-02],\n        [-1.15804821e-02,  9.24672186e-02,  7.43344128e-02],\n        [ 8.74718428e-02,  1.10691965e-01,  2.66426802e-02],\n        [-9.72162187e-03, -2.21807510e-02,  1.14788353e-01],\n        [ 1.36138260e-01, -1.27690062e-01, -1.01611845e-01],\n        [-5.78422099e-02,  1.12004399e-01,  1.58455074e-02],\n        [-7.68976733e-02, -1.24813959e-01,  3.83521616e-02],\n        [ 1.93483382e-02, -6.02199286e-02, -1.29614174e-01],\n        [-1.64290220e-02, -4.86465171e-02, -1.34550020e-01],\n        [-2.66148150e-03,  8.39734375e-02,  9.58144665e-06],\n        [-6.79993629e-02, -9.23939049e-02, -7.71118104e-02],\n        [-1.17872387e-01, -2.72175223e-02, -1.26369059e-01],\n        [ 4.62276489e-02, -1.38216004e-01, -1.50584012e-01],\n        [ 3.71133536e-02,  9.88260210e-02, -4.54816744e-02],\n        [ 1.43141240e-01,  4.30809259e-02,  1.37114078e-02],\n        [ 4.24541086e-02,  6.77178800e-03,  4.36882824e-02],\n        [-1.16105109e-01, -4.25390676e-02, -1.23111464e-01],\n        [ 1.51159197e-01,  1.15170360e-01,  2.83803791e-02],\n        [ 7.84597397e-02,  8.33389014e-02, -5.72635978e-02],\n        [-7.53278807e-02,  1.68695599e-02, -1.17835701e-01],\n        [ 9.03463811e-02, -7.87379220e-02, -1.12220421e-01],\n        [-6.89718500e-02,  1.73972398e-02, -1.23066247e-01],\n        [ 5.70637882e-02,  1.47645354e-01,  8.08093250e-02],\n        [-6.06749803e-02, -9.01521668e-02,  5.00657856e-02],\n        [-1.46646097e-01,  1.26392066e-01,  1.46969795e-01],\n        [ 1.26676887e-01, -5.07982671e-02,  6.94723427e-02],\n        [-1.11562297e-01, -1.90652907e-02, -9.99188870e-02],\n        [ 7.62996823e-02,  5.78637272e-02, -3.37561518e-02],\n        [-1.05499841e-01, -6.50555864e-02,  5.71351051e-02],\n        [-2.42825300e-02,  7.58147538e-02,  1.27349883e-01],\n        [ 1.21785671e-01,  8.89232010e-02, -8.86381492e-02],\n        [-8.78418013e-02, -1.03830069e-01, -6.89224973e-02],\n        [ 1.90457404e-02, -1.13227278e-01, -1.09021515e-02],\n        [-5.63123003e-02,  2.42202580e-02,  1.17317408e-01],\n        [ 1.20618761e-01, -1.30183250e-01,  8.15390050e-03],\n        [-9.95661691e-02, -1.10110044e-01, -2.65869498e-03],\n        [ 1.06072515e-01,  3.49397659e-02, -5.46465963e-02],\n        [ 1.01771116e-01,  1.44513816e-01,  5.98302335e-02],\n        [ 9.25554335e-02,  4.85114604e-02,  1.50986522e-01],\n        [ 7.10016638e-02, -1.47876009e-01,  1.82038546e-02],\n        [-1.14661351e-01, -8.38244036e-02,  9.13055092e-02],\n        [-1.12455711e-01, -1.06846690e-02, -2.27741003e-02],\n        [ 1.27986014e-01, -4.24744338e-02, -6.64321780e-02],\n        [ 7.08263963e-02, -1.06864870e-02, -1.10736012e-01],\n        [ 3.55815887e-02, -8.45950246e-02, -3.87014374e-02],\n        [-1.21323109e-01, -8.30039307e-02, -1.61036849e-03],\n        [ 1.37005359e-01, -1.10888749e-01, -1.74967349e-02],\n        [-6.77038282e-02,  1.29923880e-01, -1.09078228e-01],\n        [-7.04315454e-02, -9.38614756e-02,  1.11438185e-01],\n        [ 8.43929350e-02,  7.66867250e-02, -2.86650211e-02],\n        [-1.58789307e-02, -6.41296804e-03, -5.94496727e-02],\n        [-3.07555869e-02,  2.27421224e-02,  7.51636773e-02],\n        [ 5.02707809e-02, -6.58772290e-02,  7.75527507e-02],\n        [-8.06182697e-02,  3.48286927e-02,  9.04234648e-02],\n        [-6.61681145e-02,  1.03429824e-01,  1.22567236e-01],\n        [ 1.50389344e-01, -1.15574837e-01, -2.88069099e-02],\n        [-1.25840411e-01, -9.73010585e-02, -2.46029198e-02],\n        [-1.45294249e-01,  8.50151330e-02, -3.44324186e-02],\n        [ 9.08349454e-03, -6.02791160e-02, -4.63920757e-02],\n        [-4.84665632e-02,  9.11501348e-02, -1.12777919e-01],\n        [-9.82411057e-02, -3.56020629e-02, -9.17355269e-02],\n        [-5.11037782e-02,  1.00371599e-01, -1.33920133e-01],\n        [ 2.77301222e-02, -1.49861276e-02, -1.46901056e-01],\n        [-1.00451566e-01,  4.81650829e-02,  7.15859383e-02],\n        [ 1.49018228e-01, -1.40547901e-02, -9.11187828e-02],\n        [ 3.94276083e-02, -1.89040601e-03, -1.46673381e-01],\n        [ 1.38160437e-01, -1.17067732e-01,  1.08647048e-01],\n        [ 8.65584016e-02,  8.60521793e-02,  1.15481436e-01],\n        [-7.63853565e-02, -5.45730442e-02, -1.18853658e-01],\n        [ 1.31577104e-02,  6.54901713e-02, -2.94221044e-02],\n        [-1.99908614e-02, -1.04238421e-01, -1.17238536e-01],\n        [-1.30908906e-01, -1.41748697e-01,  1.07059360e-01],\n        [-6.72644153e-02,  1.35450840e-01,  4.76969630e-02],\n        [ 6.31359369e-02, -1.19275793e-01, -5.48322499e-02],\n        [ 3.35032195e-02, -1.19314730e-01,  4.85918373e-02],\n        [-1.39722615e-01,  8.14214796e-02,  5.50024807e-02],\n        [-8.09516832e-02,  1.21798962e-01,  1.01545811e-01],\n        [ 9.26420838e-02, -1.47440150e-01,  2.71924734e-02],\n        [-1.43165469e-01,  8.09539706e-02, -5.13169318e-02],\n        [-3.45302522e-02,  4.61015105e-02,  1.67408586e-02],\n        [ 1.23121947e-01,  8.85253698e-02,  1.15299672e-02],\n        [-1.13140911e-01, -2.11171806e-02,  1.13101065e-01],\n        [-1.02187201e-01, -5.50032035e-02, -9.70906019e-03],\n        [-1.00933984e-01,  6.58585727e-02,  1.23434365e-02],\n        [-1.15136057e-02,  9.67155844e-02,  1.31631225e-01],\n        [-4.43641469e-02,  9.30471718e-02, -1.38742507e-01],\n        [-8.59774277e-02, -1.46737695e-02, -4.75738943e-03],\n        [-1.42512903e-01, -3.64794359e-02, -1.33570641e-01],\n        [-5.86410239e-02,  8.63756537e-02,  5.08227199e-02],\n        [-4.21038941e-02,  1.18138313e-01,  1.12475425e-01],\n        [-1.34103000e-03,  5.45468479e-02,  4.92970645e-02],\n        [-2.04192102e-02,  1.08702809e-01, -1.31706446e-01],\n        [-4.50375080e-02, -1.10758081e-01,  4.54958677e-02],\n        [ 8.92555714e-03, -1.08209193e-01, -1.10102639e-01],\n        [-1.24842085e-01,  5.57710677e-02,  4.89892960e-02],\n        [-2.16494203e-02, -1.52125001e-01, -8.02599192e-02],\n        [-1.08657934e-01, -1.46653488e-01, -5.53795844e-02],\n        [-2.41515934e-02, -4.15494815e-02,  8.24061483e-02],\n        [-1.44506022e-01,  6.94531202e-03, -6.58168048e-02]], dtype=float32)>,\n <tf.Variable 'Output/bias:0' shape=(3,) dtype=float32, numpy=array([0., 0., 0.], dtype=float32)>]"
     },
     "metadata": {},
     "execution_count": 7
    }
   ],
   "source": [
    "ddqn.online_network.summary()\n",
    "ddqn.online_network.weights"
   ]
  },
  {
   "cell_type": "code",
   "execution_count": 8,
   "metadata": {
    "tags": []
   },
   "outputs": [
    {
     "output_type": "stream",
     "name": "stdout",
     "text": "WARNING:tensorflow:From /home/tx/anaconda3/envs/ml4t/lib/python3.7/site-packages/tensorflow/python/training/tracking/tracking.py:111: Model.state_updates (from tensorflow.python.keras.engine.training) is deprecated and will be removed in a future version.\nInstructions for updating:\nThis property should not be used in TensorFlow 2.0, as updates are applied automatically.\nWARNING:tensorflow:From /home/tx/anaconda3/envs/ml4t/lib/python3.7/site-packages/tensorflow/python/training/tracking/tracking.py:111: Model.state_updates (from tensorflow.python.keras.engine.training) is deprecated and will be removed in a future version.\nInstructions for updating:\nThis property should not be used in TensorFlow 2.0, as updates are applied automatically.\nWARNING:tensorflow:From /home/tx/anaconda3/envs/ml4t/lib/python3.7/site-packages/tensorflow/python/training/tracking/tracking.py:111: Layer.updates (from tensorflow.python.keras.engine.base_layer) is deprecated and will be removed in a future version.\nInstructions for updating:\nThis property should not be used in TensorFlow 2.0, as updates are applied automatically.\nWARNING:tensorflow:From /home/tx/anaconda3/envs/ml4t/lib/python3.7/site-packages/tensorflow/python/training/tracking/tracking.py:111: Layer.updates (from tensorflow.python.keras.engine.base_layer) is deprecated and will be removed in a future version.\nInstructions for updating:\nThis property should not be used in TensorFlow 2.0, as updates are applied automatically.\nINFO:tensorflow:Assets written to: models/online_model/assets\nINFO:tensorflow:Assets written to: models/online_model/assets\nINFO:tensorflow:Assets written to: models/target_model/assets\nINFO:tensorflow:Assets written to: models/target_model/assets\nmodels have been saved.\n"
    },
    {
     "output_type": "execute_result",
     "data": {
      "text/plain": "True"
     },
     "metadata": {},
     "execution_count": 8
    }
   ],
   "source": [
    "ddqn.save_model()"
   ]
  },
  {
   "cell_type": "code",
   "execution_count": 15,
   "metadata": {
    "tags": []
   },
   "outputs": [
    {
     "output_type": "stream",
     "name": "stdout",
     "text": "models have been loaded.\n"
    },
    {
     "output_type": "execute_result",
     "data": {
      "text/plain": "[<tf.Variable 'Dense_1/kernel:0' shape=(10, 256) dtype=float32, numpy=\n array([[ 0.04943046, -0.01772013, -0.04419052, ...,  0.00709645,\n          0.10010409,  0.08421537],\n        [ 0.07523823,  0.08323127,  0.04633622, ..., -0.035027  ,\n          0.09194687,  0.05923855],\n        [-0.1310968 ,  0.07321371, -0.11101919, ..., -0.14396206,\n         -0.0499901 , -0.09893271],\n        ...,\n        [ 0.14955643, -0.00583661, -0.00119951, ..., -0.07104123,\n         -0.0286596 , -0.03342304],\n        [ 0.06839566, -0.12877463,  0.05618842, ..., -0.01180017,\n          0.09284012, -0.12714407],\n        [-0.03903491, -0.09870157,  0.07117632, ..., -0.02694204,\n         -0.08345815, -0.12888123]], dtype=float32)>,\n <tf.Variable 'Dense_1/bias:0' shape=(256,) dtype=float32, numpy=\n array([0., 0., 0., 0., 0., 0., 0., 0., 0., 0., 0., 0., 0., 0., 0., 0., 0.,\n        0., 0., 0., 0., 0., 0., 0., 0., 0., 0., 0., 0., 0., 0., 0., 0., 0.,\n        0., 0., 0., 0., 0., 0., 0., 0., 0., 0., 0., 0., 0., 0., 0., 0., 0.,\n        0., 0., 0., 0., 0., 0., 0., 0., 0., 0., 0., 0., 0., 0., 0., 0., 0.,\n        0., 0., 0., 0., 0., 0., 0., 0., 0., 0., 0., 0., 0., 0., 0., 0., 0.,\n        0., 0., 0., 0., 0., 0., 0., 0., 0., 0., 0., 0., 0., 0., 0., 0., 0.,\n        0., 0., 0., 0., 0., 0., 0., 0., 0., 0., 0., 0., 0., 0., 0., 0., 0.,\n        0., 0., 0., 0., 0., 0., 0., 0., 0., 0., 0., 0., 0., 0., 0., 0., 0.,\n        0., 0., 0., 0., 0., 0., 0., 0., 0., 0., 0., 0., 0., 0., 0., 0., 0.,\n        0., 0., 0., 0., 0., 0., 0., 0., 0., 0., 0., 0., 0., 0., 0., 0., 0.,\n        0., 0., 0., 0., 0., 0., 0., 0., 0., 0., 0., 0., 0., 0., 0., 0., 0.,\n        0., 0., 0., 0., 0., 0., 0., 0., 0., 0., 0., 0., 0., 0., 0., 0., 0.,\n        0., 0., 0., 0., 0., 0., 0., 0., 0., 0., 0., 0., 0., 0., 0., 0., 0.,\n        0., 0., 0., 0., 0., 0., 0., 0., 0., 0., 0., 0., 0., 0., 0., 0., 0.,\n        0., 0., 0., 0., 0., 0., 0., 0., 0., 0., 0., 0., 0., 0., 0., 0., 0.,\n        0.], dtype=float32)>,\n <tf.Variable 'Dense_2/kernel:0' shape=(256, 256) dtype=float32, numpy=\n array([[ 0.04067964, -0.00336043,  0.09331302, ..., -0.05562919,\n         -0.09915592, -0.07003643],\n        [-0.03871035,  0.06407639, -0.04704274, ..., -0.1047272 ,\n          0.02788656, -0.03861929],\n        [-0.0223889 ,  0.07421758,  0.01034984, ..., -0.04351449,\n          0.06435005,  0.03692443],\n        ...,\n        [ 0.02701262, -0.10163336,  0.04600718, ...,  0.01145013,\n         -0.08386543, -0.07223843],\n        [-0.06131713, -0.05757694, -0.00984047, ...,  0.03523437,\n         -0.00272727, -0.05270342],\n        [-0.07520302, -0.04225121, -0.03619627, ...,  0.05789558,\n         -0.04246469,  0.01773887]], dtype=float32)>,\n <tf.Variable 'Dense_2/bias:0' shape=(256,) dtype=float32, numpy=\n array([0., 0., 0., 0., 0., 0., 0., 0., 0., 0., 0., 0., 0., 0., 0., 0., 0.,\n        0., 0., 0., 0., 0., 0., 0., 0., 0., 0., 0., 0., 0., 0., 0., 0., 0.,\n        0., 0., 0., 0., 0., 0., 0., 0., 0., 0., 0., 0., 0., 0., 0., 0., 0.,\n        0., 0., 0., 0., 0., 0., 0., 0., 0., 0., 0., 0., 0., 0., 0., 0., 0.,\n        0., 0., 0., 0., 0., 0., 0., 0., 0., 0., 0., 0., 0., 0., 0., 0., 0.,\n        0., 0., 0., 0., 0., 0., 0., 0., 0., 0., 0., 0., 0., 0., 0., 0., 0.,\n        0., 0., 0., 0., 0., 0., 0., 0., 0., 0., 0., 0., 0., 0., 0., 0., 0.,\n        0., 0., 0., 0., 0., 0., 0., 0., 0., 0., 0., 0., 0., 0., 0., 0., 0.,\n        0., 0., 0., 0., 0., 0., 0., 0., 0., 0., 0., 0., 0., 0., 0., 0., 0.,\n        0., 0., 0., 0., 0., 0., 0., 0., 0., 0., 0., 0., 0., 0., 0., 0., 0.,\n        0., 0., 0., 0., 0., 0., 0., 0., 0., 0., 0., 0., 0., 0., 0., 0., 0.,\n        0., 0., 0., 0., 0., 0., 0., 0., 0., 0., 0., 0., 0., 0., 0., 0., 0.,\n        0., 0., 0., 0., 0., 0., 0., 0., 0., 0., 0., 0., 0., 0., 0., 0., 0.,\n        0., 0., 0., 0., 0., 0., 0., 0., 0., 0., 0., 0., 0., 0., 0., 0., 0.,\n        0., 0., 0., 0., 0., 0., 0., 0., 0., 0., 0., 0., 0., 0., 0., 0., 0.,\n        0.], dtype=float32)>,\n <tf.Variable 'Output/kernel:0' shape=(256, 3) dtype=float32, numpy=\n array([[ 7.34742433e-02,  3.91304791e-02, -1.46911860e-01],\n        [-4.77479175e-02,  3.23818624e-03, -3.72126028e-02],\n        [-1.29916385e-01, -1.45698607e-01, -6.47849515e-02],\n        [-8.80907476e-03,  5.89376390e-02, -1.29917175e-01],\n        [ 1.31660044e-01, -8.87560174e-02,  6.12037033e-02],\n        [-1.26134604e-02,  1.09472990e-01,  1.30695462e-01],\n        [-9.04337317e-02,  8.17806870e-02,  3.04895490e-02],\n        [-6.98928088e-02,  1.16224766e-01, -1.35872290e-01],\n        [-2.35171318e-02,  1.18834019e-01,  8.78835320e-02],\n        [-1.21259063e-01, -9.31218863e-02, -6.72841221e-02],\n        [-3.19243595e-02, -1.14958949e-01, -3.52736488e-02],\n        [ 1.35622680e-01,  8.40003341e-02,  1.35285944e-01],\n        [-1.39124811e-01, -7.72902369e-03,  4.71299589e-02],\n        [ 2.00031251e-02, -1.10017151e-01, -6.07396066e-02],\n        [-5.13938665e-02, -1.12913921e-01,  4.37023491e-02],\n        [-1.37776285e-02,  5.74779510e-02, -6.02617338e-02],\n        [-2.57892907e-03, -7.14473575e-02,  6.46178722e-02],\n        [ 6.78740591e-02, -9.47743058e-02, -7.86723122e-02],\n        [ 9.17461663e-02,  1.43602788e-01,  6.22535199e-02],\n        [-6.40649199e-02,  1.49516165e-02, -1.36793733e-01],\n        [-9.35084671e-02, -1.39500648e-02, -8.55715424e-02],\n        [ 1.13373011e-01,  1.92035139e-02, -5.57699353e-02],\n        [ 5.63084185e-02, -3.27171832e-02,  6.41175359e-02],\n        [ 6.20399266e-02,  6.58463389e-02,  1.02756888e-01],\n        [ 1.49455786e-01,  1.34015530e-01, -8.62593129e-02],\n        [ 6.52542263e-02,  1.20043308e-02,  6.97147846e-03],\n        [-4.71403375e-02,  1.42897844e-01,  1.48866385e-01],\n        [-5.76434582e-02,  1.36677384e-01,  2.75958627e-02],\n        [ 1.22140050e-02, -7.18900785e-02, -1.85650587e-03],\n        [ 4.39262390e-03,  5.91885448e-02, -3.93275917e-02],\n        [ 3.08366120e-03,  1.27626240e-01, -8.86264294e-02],\n        [-2.97428891e-02, -7.27233291e-02,  1.26313090e-01],\n        [ 1.13967508e-01, -1.01149715e-01,  4.85923439e-02],\n        [ 9.16637927e-02, -1.42078847e-01,  2.06907094e-02],\n        [-6.24745488e-02,  1.37532651e-01, -2.33907104e-02],\n        [ 1.00281596e-01, -8.62494782e-02, -6.79075867e-02],\n        [-6.86585382e-02,  7.43135810e-02,  1.29001260e-01],\n        [ 1.13765001e-01,  9.66035277e-02,  1.37738585e-01],\n        [ 1.32389933e-01, -4.70840558e-02,  9.93538201e-02],\n        [-7.37777948e-02,  1.44660473e-02, -4.41705137e-02],\n        [-1.25609189e-02,  1.49506181e-01, -2.22435296e-02],\n        [ 3.59841436e-02,  5.10321110e-02,  9.29668695e-02],\n        [ 1.09152466e-01, -2.13885456e-02,  1.20471567e-01],\n        [-1.08215287e-01,  7.36454427e-02, -2.04187036e-02],\n        [ 7.59516060e-02, -1.13132596e-02,  7.20679760e-04],\n        [ 2.95479447e-02, -3.35132033e-02, -1.15490936e-01],\n        [ 3.62053812e-02, -8.51274803e-02,  7.93521404e-02],\n        [ 3.34410369e-03, -7.03701824e-02, -7.34035149e-02],\n        [-1.27532020e-01,  9.21576768e-02,  1.99612081e-02],\n        [-1.46543682e-01, -5.34757972e-02, -2.20623016e-02],\n        [-1.34639889e-02,  1.81223750e-02, -8.41298699e-03],\n        [-1.37314245e-01,  5.19375503e-03, -7.17039183e-02],\n        [-1.13427952e-01,  1.06142879e-01,  1.36379302e-01],\n        [-1.24261364e-01,  1.14813119e-01,  1.32740587e-02],\n        [-1.19101904e-01, -5.11680469e-02,  5.79217225e-02],\n        [-1.32958353e-01,  1.68432593e-02, -1.23928890e-01],\n        [-1.27860576e-01,  8.36730003e-04,  7.88186640e-02],\n        [-9.80867445e-03, -1.16163179e-01, -1.44925237e-01],\n        [-2.03508139e-03,  1.51683718e-01,  1.40410751e-01],\n        [-1.17902607e-02, -2.38801539e-03, -1.48598433e-01],\n        [-1.34618819e-01, -1.18442371e-01, -7.02819675e-02],\n        [ 8.42455328e-02, -1.00589715e-01, -8.49823281e-02],\n        [-1.21950097e-01, -1.39187485e-01, -1.40421927e-01],\n        [-4.33374420e-02,  8.44916701e-02, -1.48691371e-01],\n        [ 1.42399102e-01,  5.82453310e-02,  1.44335717e-01],\n        [ 3.16541940e-02, -6.19939119e-02,  8.08523297e-02],\n        [ 1.27867222e-01, -1.93103105e-02, -1.62713528e-02],\n        [-4.51032296e-02, -1.33577615e-01,  2.03252286e-02],\n        [-1.04721099e-01,  1.51609063e-01,  1.01527154e-01],\n        [ 6.36753291e-02,  7.03552961e-02,  1.12334788e-01],\n        [-1.32761806e-01, -6.20347336e-02, -1.41047284e-01],\n        [ 1.36503428e-01, -4.43311259e-02,  6.72152787e-02],\n        [ 9.36393291e-02,  1.51092917e-01,  3.30314785e-02],\n        [-5.25295436e-02,  7.69947022e-02, -4.72399518e-02],\n        [-9.23976824e-02,  1.47767097e-01, -1.06287152e-01],\n        [-3.95608917e-02, -3.78777087e-03, -1.50545254e-01],\n        [-8.26347694e-02,  9.41332728e-02, -3.27763334e-02],\n        [-5.92598319e-03, -5.08216694e-02,  1.02390349e-03],\n        [-1.30837008e-01, -7.35988915e-02,  1.35160804e-01],\n        [ 2.80286372e-03,  1.32627606e-01, -1.30131319e-01],\n        [ 6.14800304e-02, -3.75959873e-02, -1.24183856e-01],\n        [-5.83675206e-02, -1.01372600e-02,  5.30658066e-02],\n        [-1.41438544e-01,  1.98104382e-02, -3.17242742e-03],\n        [-6.92938343e-02, -1.37248486e-01,  1.42808944e-01],\n        [ 6.10337257e-02,  1.01713628e-01, -2.67224759e-02],\n        [ 1.01905793e-01, -1.27797619e-01, -5.89898974e-02],\n        [ 1.35406822e-01,  2.97351927e-02,  1.21795356e-01],\n        [ 1.25425965e-01,  1.80517584e-02,  1.14179999e-01],\n        [-1.12589732e-01, -2.61085480e-02,  2.64188945e-02],\n        [-1.38642579e-01, -6.40665889e-02, -1.33046508e-03],\n        [ 1.33011192e-02,  1.32760435e-01,  1.48328781e-01],\n        [ 9.46912467e-02,  2.15206295e-02, -1.06293395e-01],\n        [-1.48979247e-01,  4.37407792e-02,  1.23576015e-01],\n        [-8.63878056e-02, -1.16938904e-01, -1.65170580e-02],\n        [-1.48104802e-01, -6.33893907e-03, -5.63822240e-02],\n        [-1.25282437e-01,  7.16457516e-02, -5.78983128e-02],\n        [-1.41067758e-01, -1.33446276e-01,  1.30098552e-01],\n        [-7.06163570e-02,  3.46678942e-02, -4.32539061e-02],\n        [-5.84119707e-02, -7.10064918e-02, -2.40788013e-02],\n        [-4.52551246e-03, -8.80961865e-02, -7.58499950e-02],\n        [-1.19197413e-01, -3.70419025e-03,  9.86573696e-02],\n        [ 1.40988141e-01,  1.15915835e-02,  1.94647163e-02],\n        [-9.28258896e-02, -1.65135115e-02,  2.22557932e-02],\n        [-2.83411145e-03,  7.80166239e-02,  1.81593001e-03],\n        [-6.08375892e-02, -1.43381387e-01,  1.40990704e-01],\n        [ 7.76987672e-02, -8.28058347e-02,  1.06584787e-01],\n        [ 1.48353040e-01, -7.19816312e-02, -1.29879400e-01],\n        [ 6.32430613e-03, -4.62358221e-02,  3.77996266e-03],\n        [-7.80878961e-03, -1.07262582e-02, -4.01273370e-04],\n        [ 1.13400072e-02,  1.41847938e-01, -3.74518931e-02],\n        [-1.28348917e-02,  8.83966684e-03, -1.39354229e-01],\n        [ 5.19989729e-02, -3.98297831e-02,  1.40327513e-01],\n        [ 1.42220110e-02, -2.23906338e-03,  4.07981426e-02],\n        [-1.26009047e-01, -3.90864909e-03, -1.19712599e-01],\n        [-1.47000983e-01,  1.20918721e-01,  3.15806270e-03],\n        [-6.65260628e-02, -6.36821985e-03,  1.05772972e-01],\n        [ 5.38572967e-02,  8.69207382e-02, -1.33457899e-01],\n        [ 1.34701043e-01,  1.17990375e-01, -5.65170720e-02],\n        [-1.10737234e-02,  1.08347446e-01,  1.28490776e-02],\n        [ 9.82073843e-02, -1.71612799e-02, -2.64413655e-03],\n        [ 2.47129798e-03, -1.22211225e-01, -6.46853745e-02],\n        [-6.64254352e-02,  4.62799072e-02, -9.98143852e-02],\n        [-8.64818692e-04,  2.64688581e-02, -7.89203048e-02],\n        [ 1.13213748e-01, -1.47467032e-01,  7.08621442e-02],\n        [ 4.96491343e-02, -9.58164036e-02, -4.77603972e-02],\n        [-1.34376734e-02, -9.15258229e-02, -3.31256762e-02],\n        [ 8.49176198e-02, -4.45740372e-02,  8.44630450e-02],\n        [ 6.43107742e-02, -7.42822886e-05,  1.18089378e-01],\n        [ 7.31631368e-02,  5.72653115e-03, -1.21603221e-01],\n        [-6.46843612e-02,  1.26394928e-01,  1.21093869e-01],\n        [ 2.84848064e-02,  3.38793844e-02,  1.19265795e-01],\n        [ 8.90442580e-02, -2.50238925e-02,  7.61298090e-02],\n        [ 2.59785354e-02, -1.41689122e-01, -9.92639363e-03],\n        [ 3.18207592e-02, -4.43417877e-02,  8.20460618e-02],\n        [ 5.15717864e-02,  2.12341547e-05, -1.17425784e-01],\n        [-1.41457379e-01, -1.07802898e-02, -4.67254221e-02],\n        [-2.19734311e-02,  9.14324224e-02,  4.17728722e-02],\n        [-1.04559943e-01,  1.13865614e-01,  1.40393734e-01],\n        [-1.01328216e-01,  9.70075577e-02, -5.70326969e-02],\n        [ 9.58170891e-02,  4.93388623e-02, -1.04085542e-01],\n        [ 1.46376491e-01,  9.35338289e-02, -8.30481946e-03],\n        [-8.66858438e-02,  1.51418567e-01, -1.38389573e-01],\n        [ 4.61309105e-02, -8.36094320e-02,  2.34073699e-02],\n        [ 9.92394984e-02,  1.14190400e-01,  7.34070390e-02],\n        [-1.16379455e-01, -1.26703307e-01, -8.61721113e-02],\n        [ 6.79712445e-02,  1.01277232e-03,  2.52905041e-02],\n        [-1.07902087e-01, -5.13596833e-02,  5.86408377e-02],\n        [-2.53843516e-02,  8.55511129e-02, -3.38819623e-03],\n        [-9.94561762e-02,  7.59973675e-02, -1.77763700e-02],\n        [ 1.49165124e-01,  3.33173126e-02,  1.50831103e-01],\n        [-7.28342980e-02,  1.22620523e-01, -6.59336150e-02],\n        [-1.48482308e-01,  1.38452351e-02, -6.89653158e-02],\n        [ 7.07238466e-02,  6.76983893e-02, -2.52698511e-02],\n        [-1.92564577e-02, -1.24541476e-01, -9.26926732e-02],\n        [-2.02006847e-02, -2.21185088e-02, -4.75635305e-02],\n        [ 8.79857987e-02,  2.61550695e-02,  1.41313195e-01],\n        [ 8.63734782e-02, -2.33329386e-02,  6.57958984e-02],\n        [-2.54548192e-02,  5.19777834e-03,  2.19586641e-02],\n        [-1.15804821e-02,  9.24672186e-02,  7.43344128e-02],\n        [ 8.74718428e-02,  1.10691965e-01,  2.66426802e-02],\n        [-9.72162187e-03, -2.21807510e-02,  1.14788353e-01],\n        [ 1.36138260e-01, -1.27690062e-01, -1.01611845e-01],\n        [-5.78422099e-02,  1.12004399e-01,  1.58455074e-02],\n        [-7.68976733e-02, -1.24813959e-01,  3.83521616e-02],\n        [ 1.93483382e-02, -6.02199286e-02, -1.29614174e-01],\n        [-1.64290220e-02, -4.86465171e-02, -1.34550020e-01],\n        [-2.66148150e-03,  8.39734375e-02,  9.58144665e-06],\n        [-6.79993629e-02, -9.23939049e-02, -7.71118104e-02],\n        [-1.17872387e-01, -2.72175223e-02, -1.26369059e-01],\n        [ 4.62276489e-02, -1.38216004e-01, -1.50584012e-01],\n        [ 3.71133536e-02,  9.88260210e-02, -4.54816744e-02],\n        [ 1.43141240e-01,  4.30809259e-02,  1.37114078e-02],\n        [ 4.24541086e-02,  6.77178800e-03,  4.36882824e-02],\n        [-1.16105109e-01, -4.25390676e-02, -1.23111464e-01],\n        [ 1.51159197e-01,  1.15170360e-01,  2.83803791e-02],\n        [ 7.84597397e-02,  8.33389014e-02, -5.72635978e-02],\n        [-7.53278807e-02,  1.68695599e-02, -1.17835701e-01],\n        [ 9.03463811e-02, -7.87379220e-02, -1.12220421e-01],\n        [-6.89718500e-02,  1.73972398e-02, -1.23066247e-01],\n        [ 5.70637882e-02,  1.47645354e-01,  8.08093250e-02],\n        [-6.06749803e-02, -9.01521668e-02,  5.00657856e-02],\n        [-1.46646097e-01,  1.26392066e-01,  1.46969795e-01],\n        [ 1.26676887e-01, -5.07982671e-02,  6.94723427e-02],\n        [-1.11562297e-01, -1.90652907e-02, -9.99188870e-02],\n        [ 7.62996823e-02,  5.78637272e-02, -3.37561518e-02],\n        [-1.05499841e-01, -6.50555864e-02,  5.71351051e-02],\n        [-2.42825300e-02,  7.58147538e-02,  1.27349883e-01],\n        [ 1.21785671e-01,  8.89232010e-02, -8.86381492e-02],\n        [-8.78418013e-02, -1.03830069e-01, -6.89224973e-02],\n        [ 1.90457404e-02, -1.13227278e-01, -1.09021515e-02],\n        [-5.63123003e-02,  2.42202580e-02,  1.17317408e-01],\n        [ 1.20618761e-01, -1.30183250e-01,  8.15390050e-03],\n        [-9.95661691e-02, -1.10110044e-01, -2.65869498e-03],\n        [ 1.06072515e-01,  3.49397659e-02, -5.46465963e-02],\n        [ 1.01771116e-01,  1.44513816e-01,  5.98302335e-02],\n        [ 9.25554335e-02,  4.85114604e-02,  1.50986522e-01],\n        [ 7.10016638e-02, -1.47876009e-01,  1.82038546e-02],\n        [-1.14661351e-01, -8.38244036e-02,  9.13055092e-02],\n        [-1.12455711e-01, -1.06846690e-02, -2.27741003e-02],\n        [ 1.27986014e-01, -4.24744338e-02, -6.64321780e-02],\n        [ 7.08263963e-02, -1.06864870e-02, -1.10736012e-01],\n        [ 3.55815887e-02, -8.45950246e-02, -3.87014374e-02],\n        [-1.21323109e-01, -8.30039307e-02, -1.61036849e-03],\n        [ 1.37005359e-01, -1.10888749e-01, -1.74967349e-02],\n        [-6.77038282e-02,  1.29923880e-01, -1.09078228e-01],\n        [-7.04315454e-02, -9.38614756e-02,  1.11438185e-01],\n        [ 8.43929350e-02,  7.66867250e-02, -2.86650211e-02],\n        [-1.58789307e-02, -6.41296804e-03, -5.94496727e-02],\n        [-3.07555869e-02,  2.27421224e-02,  7.51636773e-02],\n        [ 5.02707809e-02, -6.58772290e-02,  7.75527507e-02],\n        [-8.06182697e-02,  3.48286927e-02,  9.04234648e-02],\n        [-6.61681145e-02,  1.03429824e-01,  1.22567236e-01],\n        [ 1.50389344e-01, -1.15574837e-01, -2.88069099e-02],\n        [-1.25840411e-01, -9.73010585e-02, -2.46029198e-02],\n        [-1.45294249e-01,  8.50151330e-02, -3.44324186e-02],\n        [ 9.08349454e-03, -6.02791160e-02, -4.63920757e-02],\n        [-4.84665632e-02,  9.11501348e-02, -1.12777919e-01],\n        [-9.82411057e-02, -3.56020629e-02, -9.17355269e-02],\n        [-5.11037782e-02,  1.00371599e-01, -1.33920133e-01],\n        [ 2.77301222e-02, -1.49861276e-02, -1.46901056e-01],\n        [-1.00451566e-01,  4.81650829e-02,  7.15859383e-02],\n        [ 1.49018228e-01, -1.40547901e-02, -9.11187828e-02],\n        [ 3.94276083e-02, -1.89040601e-03, -1.46673381e-01],\n        [ 1.38160437e-01, -1.17067732e-01,  1.08647048e-01],\n        [ 8.65584016e-02,  8.60521793e-02,  1.15481436e-01],\n        [-7.63853565e-02, -5.45730442e-02, -1.18853658e-01],\n        [ 1.31577104e-02,  6.54901713e-02, -2.94221044e-02],\n        [-1.99908614e-02, -1.04238421e-01, -1.17238536e-01],\n        [-1.30908906e-01, -1.41748697e-01,  1.07059360e-01],\n        [-6.72644153e-02,  1.35450840e-01,  4.76969630e-02],\n        [ 6.31359369e-02, -1.19275793e-01, -5.48322499e-02],\n        [ 3.35032195e-02, -1.19314730e-01,  4.85918373e-02],\n        [-1.39722615e-01,  8.14214796e-02,  5.50024807e-02],\n        [-8.09516832e-02,  1.21798962e-01,  1.01545811e-01],\n        [ 9.26420838e-02, -1.47440150e-01,  2.71924734e-02],\n        [-1.43165469e-01,  8.09539706e-02, -5.13169318e-02],\n        [-3.45302522e-02,  4.61015105e-02,  1.67408586e-02],\n        [ 1.23121947e-01,  8.85253698e-02,  1.15299672e-02],\n        [-1.13140911e-01, -2.11171806e-02,  1.13101065e-01],\n        [-1.02187201e-01, -5.50032035e-02, -9.70906019e-03],\n        [-1.00933984e-01,  6.58585727e-02,  1.23434365e-02],\n        [-1.15136057e-02,  9.67155844e-02,  1.31631225e-01],\n        [-4.43641469e-02,  9.30471718e-02, -1.38742507e-01],\n        [-8.59774277e-02, -1.46737695e-02, -4.75738943e-03],\n        [-1.42512903e-01, -3.64794359e-02, -1.33570641e-01],\n        [-5.86410239e-02,  8.63756537e-02,  5.08227199e-02],\n        [-4.21038941e-02,  1.18138313e-01,  1.12475425e-01],\n        [-1.34103000e-03,  5.45468479e-02,  4.92970645e-02],\n        [-2.04192102e-02,  1.08702809e-01, -1.31706446e-01],\n        [-4.50375080e-02, -1.10758081e-01,  4.54958677e-02],\n        [ 8.92555714e-03, -1.08209193e-01, -1.10102639e-01],\n        [-1.24842085e-01,  5.57710677e-02,  4.89892960e-02],\n        [-2.16494203e-02, -1.52125001e-01, -8.02599192e-02],\n        [-1.08657934e-01, -1.46653488e-01, -5.53795844e-02],\n        [-2.41515934e-02, -4.15494815e-02,  8.24061483e-02],\n        [-1.44506022e-01,  6.94531202e-03, -6.58168048e-02]], dtype=float32)>,\n <tf.Variable 'Output/bias:0' shape=(3,) dtype=float32, numpy=array([0., 0., 0.], dtype=float32)>]"
     },
     "metadata": {},
     "execution_count": 15
    }
   ],
   "source": [
    "ddqn.load_model()\n",
    "ddqn.online_network.weights"
   ]
  },
  {
   "cell_type": "code",
   "execution_count": 6,
   "metadata": {},
   "outputs": [],
   "source": [
    "#设置训练参数\n",
    "total_steps = 0\n",
    "max_episodes = 1000\n",
    "\n",
    "# 记录训练数据 由于记录的不断增加，最终会将内存耗尽，所有在过程中要不断的保存结果\n",
    "episode_time, navs, market_navs, diffs, episode_eps = [], [], [], [], []"
   ]
  },
  {
   "cell_type": "code",
   "execution_count": 7,
   "metadata": {},
   "outputs": [],
   "source": [
    "def track_results(episode, nav_ma_100, nav_ma_10,\n",
    "                  market_nav_100, market_nav_10,\n",
    "                  win_ratio, total, epsilon):\n",
    "    time_ma = np.mean([episode_time[-100:]])\n",
    "    T = np.sum(episode_time)\n",
    "    \n",
    "    template = '{:>4d} | {} | Agent: {:>6.1%} ({:>6.1%}) | '\n",
    "    template += 'Market: {:>6.1%} ({:>6.1%}) | '\n",
    "    template += 'Wins: {:>5.1%} | eps: {:>6.3f}'\n",
    "    print(template.format(episode, format_time(total), \n",
    "                          nav_ma_100-1, nav_ma_10-1, \n",
    "                          market_nav_100-1, market_nav_10-1, \n",
    "                          win_ratio, epsilon))"
   ]
  },
  {
   "cell_type": "code",
   "execution_count": 19,
   "metadata": {},
   "outputs": [
    {
     "output_type": "execute_result",
     "data": {
      "text/plain": "1000"
     },
     "metadata": {},
     "execution_count": 19
    }
   ],
   "source": [
    "max_episodes # 训练过程为1000个episode"
   ]
  },
  {
   "cell_type": "code",
   "execution_count": 20,
   "metadata": {},
   "outputs": [
    {
     "output_type": "execute_result",
     "data": {
      "text/plain": "252"
     },
     "metadata": {},
     "execution_count": 20
    }
   ],
   "source": [
    "max_episode_steps # 每个episode 走252步"
   ]
  },
  {
   "cell_type": "code",
   "execution_count": 20,
   "metadata": {
    "tags": []
   },
   "outputs": [
    {
     "output_type": "stream",
     "name": "stdout",
     "text": "1 | 00:00:23 | Agent: -18.8% (-18.8%) | Market:  26.6% ( 26.6%) | Wins:  0.0% | eps:  0.909\n   2 | 00:00:42 | Agent: -28.0% (-28.0%) | Market:  25.2% ( 25.2%) | Wins:  0.0% | eps:  0.905\n   3 | 00:01:01 | Agent: -26.7% (-26.7%) | Market:  38.7% ( 38.7%) | Wins:  0.0% | eps:  0.901\n   4 | 00:01:19 | Agent: -18.4% (-18.4%) | Market:  36.7% ( 36.7%) | Wins:  0.0% | eps:  0.897\n   5 | 00:01:38 | Agent: -23.4% (-23.4%) | Market:  41.1% ( 41.1%) | Wins:  0.0% | eps:  0.893\n保存训练的模型\nINFO:tensorflow:Assets written to: models/online_model/assets\nINFO:tensorflow:Assets written to: models/online_model/assets\nINFO:tensorflow:Assets written to: models/target_model/assets\nINFO:tensorflow:Assets written to: models/target_model/assets\nmodels have been saved.\n保存训练数据\n[0, 1, 2, 3, 4, 5]\n[22.82962918281555, 41.841253995895386, 60.53480076789856, 79.12658619880676, 97.68651103973389]\n[0.81188326710068, 0.6288693808617752, 0.758669811822195, 1.0663153926570423, 0.5643994510107292]\n[1.26593736944849, 1.2390057361376767, 1.6550364731109664, 1.3060545575515532, 1.589743589743624]\n[-0.45405410234780985, -0.6101363552759015, -0.8963666612887714, -0.23973916489451086, -1.025344138732895]\n[0.9089200000000008, 0.9049600000000009, 0.9010000000000009, 0.897040000000001, 0.893080000000001]\n"
    },
    {
     "output_type": "error",
     "ename": "ValueError",
     "evalue": "arrays must all be same length",
     "traceback": [
      "\u001b[0;31m---------------------------------------------------------------------------\u001b[0m",
      "\u001b[0;31mValueError\u001b[0m                                Traceback (most recent call last)",
      "\u001b[0;32m<ipython-input-20-1ba2bba2cbc5>\u001b[0m in \u001b[0;36m<module>\u001b[0;34m\u001b[0m\n\u001b[1;32m     81\u001b[0m                                 \u001b[0;34m'market'\u001b[0m\u001b[0;34m:\u001b[0m \u001b[0mmarket_navs\u001b[0m\u001b[0;34m,\u001b[0m\u001b[0;34m\u001b[0m\u001b[0;34m\u001b[0m\u001b[0m\n\u001b[1;32m     82\u001b[0m                                 \u001b[0;34m'difference'\u001b[0m\u001b[0;34m:\u001b[0m \u001b[0mdiffs\u001b[0m\u001b[0;34m,\u001b[0m\u001b[0;34m\u001b[0m\u001b[0;34m\u001b[0m\u001b[0m\n\u001b[0;32m---> 83\u001b[0;31m                                 \u001b[0;34m'episode_eps'\u001b[0m\u001b[0;34m:\u001b[0m\u001b[0mepisode_eps\u001b[0m\u001b[0;34m\u001b[0m\u001b[0;34m\u001b[0m\u001b[0m\n\u001b[0m\u001b[1;32m     84\u001b[0m                                  }).set_index('episode')\n\u001b[1;32m     85\u001b[0m         \u001b[0mresults\u001b[0m\u001b[0;34m[\u001b[0m\u001b[0;34m'Strategy Wins (%)'\u001b[0m\u001b[0;34m]\u001b[0m \u001b[0;34m=\u001b[0m \u001b[0;34m(\u001b[0m\u001b[0mresults\u001b[0m\u001b[0;34m.\u001b[0m\u001b[0mDifference\u001b[0m \u001b[0;34m>\u001b[0m \u001b[0;36m0\u001b[0m\u001b[0;34m)\u001b[0m\u001b[0;34m.\u001b[0m\u001b[0mrolling\u001b[0m\u001b[0;34m(\u001b[0m\u001b[0mgap\u001b[0m\u001b[0;34m)\u001b[0m\u001b[0;34m.\u001b[0m\u001b[0msum\u001b[0m\u001b[0;34m(\u001b[0m\u001b[0;34m)\u001b[0m\u001b[0;34m\u001b[0m\u001b[0;34m\u001b[0m\u001b[0m\n",
      "\u001b[0;32m~/anaconda3/envs/ml4t/lib/python3.7/site-packages/pandas/core/frame.py\u001b[0m in \u001b[0;36m__init__\u001b[0;34m(self, data, index, columns, dtype, copy)\u001b[0m\n\u001b[1;32m    466\u001b[0m \u001b[0;34m\u001b[0m\u001b[0m\n\u001b[1;32m    467\u001b[0m         \u001b[0;32melif\u001b[0m \u001b[0misinstance\u001b[0m\u001b[0;34m(\u001b[0m\u001b[0mdata\u001b[0m\u001b[0;34m,\u001b[0m \u001b[0mdict\u001b[0m\u001b[0;34m)\u001b[0m\u001b[0;34m:\u001b[0m\u001b[0;34m\u001b[0m\u001b[0;34m\u001b[0m\u001b[0m\n\u001b[0;32m--> 468\u001b[0;31m             \u001b[0mmgr\u001b[0m \u001b[0;34m=\u001b[0m \u001b[0minit_dict\u001b[0m\u001b[0;34m(\u001b[0m\u001b[0mdata\u001b[0m\u001b[0;34m,\u001b[0m \u001b[0mindex\u001b[0m\u001b[0;34m,\u001b[0m \u001b[0mcolumns\u001b[0m\u001b[0;34m,\u001b[0m \u001b[0mdtype\u001b[0m\u001b[0;34m=\u001b[0m\u001b[0mdtype\u001b[0m\u001b[0;34m)\u001b[0m\u001b[0;34m\u001b[0m\u001b[0;34m\u001b[0m\u001b[0m\n\u001b[0m\u001b[1;32m    469\u001b[0m         \u001b[0;32melif\u001b[0m \u001b[0misinstance\u001b[0m\u001b[0;34m(\u001b[0m\u001b[0mdata\u001b[0m\u001b[0;34m,\u001b[0m \u001b[0mma\u001b[0m\u001b[0;34m.\u001b[0m\u001b[0mMaskedArray\u001b[0m\u001b[0;34m)\u001b[0m\u001b[0;34m:\u001b[0m\u001b[0;34m\u001b[0m\u001b[0;34m\u001b[0m\u001b[0m\n\u001b[1;32m    470\u001b[0m             \u001b[0;32mimport\u001b[0m \u001b[0mnumpy\u001b[0m\u001b[0;34m.\u001b[0m\u001b[0mma\u001b[0m\u001b[0;34m.\u001b[0m\u001b[0mmrecords\u001b[0m \u001b[0;32mas\u001b[0m \u001b[0mmrecords\u001b[0m\u001b[0;34m\u001b[0m\u001b[0;34m\u001b[0m\u001b[0m\n",
      "\u001b[0;32m~/anaconda3/envs/ml4t/lib/python3.7/site-packages/pandas/core/internals/construction.py\u001b[0m in \u001b[0;36minit_dict\u001b[0;34m(data, index, columns, dtype)\u001b[0m\n\u001b[1;32m    281\u001b[0m             \u001b[0marr\u001b[0m \u001b[0;32mif\u001b[0m \u001b[0;32mnot\u001b[0m \u001b[0mis_datetime64tz_dtype\u001b[0m\u001b[0;34m(\u001b[0m\u001b[0marr\u001b[0m\u001b[0;34m)\u001b[0m \u001b[0;32melse\u001b[0m \u001b[0marr\u001b[0m\u001b[0;34m.\u001b[0m\u001b[0mcopy\u001b[0m\u001b[0;34m(\u001b[0m\u001b[0;34m)\u001b[0m \u001b[0;32mfor\u001b[0m \u001b[0marr\u001b[0m \u001b[0;32min\u001b[0m \u001b[0marrays\u001b[0m\u001b[0;34m\u001b[0m\u001b[0;34m\u001b[0m\u001b[0m\n\u001b[1;32m    282\u001b[0m         ]\n\u001b[0;32m--> 283\u001b[0;31m     \u001b[0;32mreturn\u001b[0m \u001b[0marrays_to_mgr\u001b[0m\u001b[0;34m(\u001b[0m\u001b[0marrays\u001b[0m\u001b[0;34m,\u001b[0m \u001b[0mdata_names\u001b[0m\u001b[0;34m,\u001b[0m \u001b[0mindex\u001b[0m\u001b[0;34m,\u001b[0m \u001b[0mcolumns\u001b[0m\u001b[0;34m,\u001b[0m \u001b[0mdtype\u001b[0m\u001b[0;34m=\u001b[0m\u001b[0mdtype\u001b[0m\u001b[0;34m)\u001b[0m\u001b[0;34m\u001b[0m\u001b[0;34m\u001b[0m\u001b[0m\n\u001b[0m\u001b[1;32m    284\u001b[0m \u001b[0;34m\u001b[0m\u001b[0m\n\u001b[1;32m    285\u001b[0m \u001b[0;34m\u001b[0m\u001b[0m\n",
      "\u001b[0;32m~/anaconda3/envs/ml4t/lib/python3.7/site-packages/pandas/core/internals/construction.py\u001b[0m in \u001b[0;36marrays_to_mgr\u001b[0;34m(arrays, arr_names, index, columns, dtype, verify_integrity)\u001b[0m\n\u001b[1;32m     76\u001b[0m         \u001b[0;31m# figure out the index, if necessary\u001b[0m\u001b[0;34m\u001b[0m\u001b[0;34m\u001b[0m\u001b[0;34m\u001b[0m\u001b[0m\n\u001b[1;32m     77\u001b[0m         \u001b[0;32mif\u001b[0m \u001b[0mindex\u001b[0m \u001b[0;32mis\u001b[0m \u001b[0;32mNone\u001b[0m\u001b[0;34m:\u001b[0m\u001b[0;34m\u001b[0m\u001b[0;34m\u001b[0m\u001b[0m\n\u001b[0;32m---> 78\u001b[0;31m             \u001b[0mindex\u001b[0m \u001b[0;34m=\u001b[0m \u001b[0mextract_index\u001b[0m\u001b[0;34m(\u001b[0m\u001b[0marrays\u001b[0m\u001b[0;34m)\u001b[0m\u001b[0;34m\u001b[0m\u001b[0;34m\u001b[0m\u001b[0m\n\u001b[0m\u001b[1;32m     79\u001b[0m         \u001b[0;32melse\u001b[0m\u001b[0;34m:\u001b[0m\u001b[0;34m\u001b[0m\u001b[0;34m\u001b[0m\u001b[0m\n\u001b[1;32m     80\u001b[0m             \u001b[0mindex\u001b[0m \u001b[0;34m=\u001b[0m \u001b[0mensure_index\u001b[0m\u001b[0;34m(\u001b[0m\u001b[0mindex\u001b[0m\u001b[0;34m)\u001b[0m\u001b[0;34m\u001b[0m\u001b[0;34m\u001b[0m\u001b[0m\n",
      "\u001b[0;32m~/anaconda3/envs/ml4t/lib/python3.7/site-packages/pandas/core/internals/construction.py\u001b[0m in \u001b[0;36mextract_index\u001b[0;34m(data)\u001b[0m\n\u001b[1;32m    395\u001b[0m             \u001b[0mlengths\u001b[0m \u001b[0;34m=\u001b[0m \u001b[0mlist\u001b[0m\u001b[0;34m(\u001b[0m\u001b[0mset\u001b[0m\u001b[0;34m(\u001b[0m\u001b[0mraw_lengths\u001b[0m\u001b[0;34m)\u001b[0m\u001b[0;34m)\u001b[0m\u001b[0;34m\u001b[0m\u001b[0;34m\u001b[0m\u001b[0m\n\u001b[1;32m    396\u001b[0m             \u001b[0;32mif\u001b[0m \u001b[0mlen\u001b[0m\u001b[0;34m(\u001b[0m\u001b[0mlengths\u001b[0m\u001b[0;34m)\u001b[0m \u001b[0;34m>\u001b[0m \u001b[0;36m1\u001b[0m\u001b[0;34m:\u001b[0m\u001b[0;34m\u001b[0m\u001b[0;34m\u001b[0m\u001b[0m\n\u001b[0;32m--> 397\u001b[0;31m                 \u001b[0;32mraise\u001b[0m \u001b[0mValueError\u001b[0m\u001b[0;34m(\u001b[0m\u001b[0;34m\"arrays must all be same length\"\u001b[0m\u001b[0;34m)\u001b[0m\u001b[0;34m\u001b[0m\u001b[0;34m\u001b[0m\u001b[0m\n\u001b[0m\u001b[1;32m    398\u001b[0m \u001b[0;34m\u001b[0m\u001b[0m\n\u001b[1;32m    399\u001b[0m             \u001b[0;32mif\u001b[0m \u001b[0mhave_dicts\u001b[0m\u001b[0;34m:\u001b[0m\u001b[0;34m\u001b[0m\u001b[0;34m\u001b[0m\u001b[0m\n",
      "\u001b[0;31mValueError\u001b[0m: arrays must all be same length"
     ]
    }
   ],
   "source": [
    "# 开始训练\n",
    "start = time()\n",
    "results = [] #记录训练结果\n",
    "episode_time, navs, market_navs, diffs, episode_eps = [], [], [], [], []\n",
    "\n",
    "for episode in range(1, max_episodes + 1):\n",
    "    # 每个episode开始前会将环境重置\n",
    "    this_state = trading_environment.reset()\n",
    "    \n",
    "\n",
    "    # 每次从step1走到step252\n",
    "    for episode_step in range(max_episode_steps):\n",
    "        \n",
    "        action = ddqn.epsilon_greedy_policy(this_state.reshape(-1, state_dim))\n",
    "        next_state, reward, done, _ = trading_environment.step(action)\n",
    "        \n",
    "        # print(\"epi:\", episode, \"|step:\", episode_step, \"|action:\", action, \"|next_state:\",next_state, \"|reward:\", reward, \"done:\", done)\n",
    "\n",
    "        ddqn.memorize_transition(this_state, \n",
    "                                 action, \n",
    "                                 reward, \n",
    "                                 next_state, \n",
    "                                 0.0 if done else 1.0)\n",
    "        if ddqn.train:\n",
    "            ddqn.experience_replay()\n",
    "        if done:\n",
    "            break\n",
    "        this_state = next_state\n",
    "    \n",
    "    # 记录训练时间\n",
    "    episode_time.append(time() - start)\n",
    "    # 记录每次epsilon\n",
    "    episode_eps.append(ddqn.epsilon)\n",
    "\n",
    "    # 用于记录每一步的训练结果 \n",
    "    result = trading_environment.env.simulator.result()\n",
    "    # 最后一步的训练结果\n",
    "    final = result.iloc[-1]\n",
    "\n",
    "    # 记录策略的NAV\n",
    "    nav = final.nav * (1 + final.strategy_return)\n",
    "    navs.append(nav)\n",
    "\n",
    "     # 记录市场的NAV\n",
    "    market_nav = final.market_nav\n",
    "    market_navs.append(market_nav)\n",
    "    \n",
    "    # 计算策略与市场的差异\n",
    "    diff = nav - market_nav\n",
    "    diffs.append(diff)\n",
    "\n",
    "    # 每隔10次打印训练结果\n",
    "    if episode % 1 == 0:\n",
    "        track_results(episode, np.mean(navs[-20:]), np.mean(navs[-10:]), \n",
    "                      np.mean(market_navs[-20:]), np.mean(market_navs[-10:]), \n",
    "                      np.sum([s > 0 for s in diffs[-20:]])/min(len(diffs), 20), \n",
    "                      episode_time[-1], episode_eps[-1])\n",
    "\n",
    "    # 每隔50个回合存储训练的结果\n",
    "    gap = 5\n",
    "    if episode % gap == 0:\n",
    "        print(\"保存训练的模型\")\n",
    "        # 保存训练的模型\n",
    "        ddqn.save_model()\n",
    "\n",
    "        # 保存统计数据\n",
    "        index = np.floor(episode / gap)\n",
    "\n",
    "        print(\"保存训练数据\")\n",
    "\n",
    "        print(list(range(int((index-1)*gap), episode+1)))\n",
    "        print(episode_time)\n",
    "        print(navs)\n",
    "        print(market_navs)\n",
    "        print(diffs)\n",
    "        print(episode_eps)\n",
    "        \n",
    "        results = pd.DataFrame({'episode': list(range(int((index-1)*gap)+1, episode+1)),\n",
    "                                'episode_time':episode_time,\n",
    "                                'agent': navs,\n",
    "                                'market': market_navs,\n",
    "                                'difference': diffs,\n",
    "                                'episode_eps':episode_eps\n",
    "                                 }).set_index('episode')\n",
    "        results['Strategy Wins (%)'] = (results.Difference > 0).rolling(gap).sum()\n",
    "        \n",
    "        if index == 0:\n",
    "            results.to_csv(results_path / 'dnq_results.csv', index=False)\n",
    "        else:\n",
    "            results.to_csv(results_path / 'dnq_results.csv', mode='a', head=False, index=False) \n",
    "        episode_time, navs, market_navs, diffs, episode_eps = [], [], [], [], []\n",
    "\n",
    "    # 当策略优于市场时训练结束\n",
    "    if len(diffs) > 25 and all([r > 0 for r in diffs[-25:]]):\n",
    "        print(result.tail())\n",
    "        break\n",
    "\n",
    "trading_environment.close()"
   ]
  },
  {
   "cell_type": "code",
   "execution_count": null,
   "metadata": {},
   "outputs": [],
   "source": []
  }
 ]
}